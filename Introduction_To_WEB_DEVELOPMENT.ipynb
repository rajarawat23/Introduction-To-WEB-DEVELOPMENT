{
  "nbformat": 4,
  "nbformat_minor": 0,
  "metadata": {
    "colab": {
      "provenance": []
    },
    "kernelspec": {
      "name": "python3",
      "display_name": "Python 3"
    },
    "language_info": {
      "name": "python"
    }
  },
  "cells": [
    {
      "cell_type": "markdown",
      "source": [
        "1.Explain the main components of client-server architecture and their functions\n",
        "\n",
        " ans. The main components:\n",
        " client - They request for the services.\n",
        " servers - They provide service\n",
        "\n",
        " Functions:\n",
        " clients : clients initiate request and display results\n",
        " Servers : Process requests and provide resources."
      ],
      "metadata": {
        "id": "ltNSxI_7RReR"
      }
    },
    {
      "cell_type": "markdown",
      "source": [
        "2.Discuss the various career paths available after completing a web development course\n",
        "\n",
        "ans . Front-End developer\n",
        "      Back-End developer\n",
        "      full-stack developer\n",
        "      mern-stacl developer\n",
        "      e-commerce deeloper"
      ],
      "metadata": {
        "id": "54EtvUKwPz0D"
      }
    },
    {
      "cell_type": "markdown",
      "source": [
        "3.Describe the role of a web browser's developer tools in web development\n",
        "\n",
        "ans. Debug\n",
        "     inspect and examine html css and js code in real-time and make changes"
      ],
      "metadata": {
        "id": "0br7DgW7Qo8K"
      }
    },
    {
      "cell_type": "markdown",
      "source": [],
      "metadata": {
        "id": "eJMY-W_EROMd"
      }
    },
    {
      "cell_type": "markdown",
      "source": [
        "4.What are the advantages of using a Version Control System like Git in a development project\n",
        "\n",
        "ans. Git improves collabration , we can work with team from remote location. It protect our codes"
      ],
      "metadata": {
        "id": "4yKUFn0kRT5u"
      }
    },
    {
      "cell_type": "markdown",
      "source": [
        "5.Compare and contrast a text editor and an IDE, highlighting their key features and uses.\n",
        "\n",
        "ans. Text editors are simple for basic coding while IDEs are for complex software development"
      ],
      "metadata": {
        "id": "jeBR2vK5R7md"
      }
    }
  ]
}